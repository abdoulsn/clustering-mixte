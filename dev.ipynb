{
 "cells": [
  {
   "cell_type": "code",
   "execution_count": 57,
   "metadata": {},
   "outputs": [],
   "source": [
    "import pandas as pd\n",
    "# data path\n",
    "path = \"/data/dropbox/dialloa/test/\"\n",
    "iris = pd.read_csv(path+\"iris.csv\")"
   ]
  },
  {
   "cell_type": "code",
   "execution_count": null,
   "metadata": {},
   "outputs": [],
   "source": []
  },
  {
   "cell_type": "code",
   "execution_count": 58,
   "metadata": {},
   "outputs": [],
   "source": [
    "kdata = iris.iloc[:,1:-1]\n",
    "target = iris.iloc[:,-1]"
   ]
  },
  {
   "cell_type": "code",
   "execution_count": 59,
   "metadata": {},
   "outputs": [],
   "source": [
    "import numpy as np\n",
    "import pandas as pd\n",
    "import seaborn as sns\n",
    "\n",
    "from sklearn.cluster import AgglomerativeClustering\n",
    "from sklearn.cluster import KMeans\n",
    "from scipy.cluster.hierarchy import dendrogram, linkage\n",
    "\n",
    "from sklearn.preprocessing import MinMaxScaler\n",
    "\n",
    "import matplotlib.pyplot as plt\n",
    "%matplotlib inline\n"
   ]
  },
  {
   "cell_type": "code",
   "execution_count": 60,
   "metadata": {},
   "outputs": [],
   "source": [
    "from sklearn.preprocessing import MinMaxScaler, LabelEncoder\n",
    "scaler = MinMaxScaler()\n",
    "kdata_scaled=scaler.fit_transform(kdata)\n",
    "\n",
    "le =  LabelEncoder()\n",
    "target_enc = le.fit_transform(target)\n"
   ]
  },
  {
   "cell_type": "code",
   "execution_count": 89,
   "metadata": {},
   "outputs": [],
   "source": [
    "kmeans = KMeans(n_clusters = 15)\n",
    "kmeans.fit(kdata_scaled)\n",
    "\n",
    "# Centroids and labels\n",
    "centroids = kmeans.cluster_centers_\n",
    "labels = kmeans.labels_\n"
   ]
  },
  {
   "cell_type": "code",
   "execution_count": 90,
   "metadata": {},
   "outputs": [
    {
     "data": {
      "image/png": "[encoded data removed]",
      "text/plain": [
       "<Figure size 1440x720 with 1 Axes>"
      ]
     },
     "metadata": {
      "needs_background": "light"
     },
     "output_type": "display_data"
    }
   ],
   "source": [
    "plt.figure(figsize=(20, 10))\n",
    "\n",
    "# Génération de la matrice des liens\n",
    "Z = linkage(centroids, method = 'ward', metric = 'euclidean')\n",
    "# Affichage du dendrogramme\n",
    "plt.title(\"Dendrogramme CAH\")\n",
    "dendrogram(Z, leaf_rotation = 90., color_threshold = 0)\n",
    "plt.show()\n"
   ]
  },
  {
   "cell_type": "code",
   "execution_count": 91,
   "metadata": {},
   "outputs": [],
   "source": [
    "# Initialisation du classificateur CAH pour 3 clusters\n",
    "cah_cluster = AgglomerativeClustering(n_clusters = 3)\n",
    "# Apprentissage des données \n",
    "cah_cluster.fit(centroids)\n",
    "# Calcul des labels du data set\n",
    "labels = cah_cluster.labels_\n"
   ]
  },
  {
   "cell_type": "code",
   "execution_count": 112,
   "metadata": {},
   "outputs": [],
   "source": [
    "centroids2 = []\n",
    "\t\n",
    "for i in range(0,3):\n",
    "    moy_cluster = np.mean(kmeans.cluster_centers_, axis=0)  \n",
    "# cluster_centers_ ndarray of shape (n_clusters, n_features)\n",
    "    centroids2.append(moy_cluster)\n",
    "    \n",
    "centroids2 = np.array(centroids2)"
   ]
  },
  {
   "cell_type": "code",
   "execution_count": 113,
   "metadata": {},
   "outputs": [
    {
     "name": "stderr",
     "output_type": "stream",
     "text": [
      "/opt/conda/envs/py37/lib/python3.7/site-packages/ipykernel_launcher.py:3: RuntimeWarning: Explicit initial center position passed: performing only one init in k-means instead of n_init=10\n",
      "  This is separate from the ipykernel package so we can avoid doing imports until\n"
     ]
    }
   ],
   "source": [
    "# Algorithme de K-means\n",
    "kmeans2 = KMeans(n_clusters = 3,init=centroids2 )\n",
    "kmeans2.fit(kdata_scaled)\n",
    "\n",
    "# Centroids and labels\n",
    "centroids2 = kmeans2.cluster_centers_\n",
    "labels2 = kmeans2.labels_"
   ]
  },
  {
   "cell_type": "code",
   "execution_count": 114,
   "metadata": {},
   "outputs": [
    {
     "name": "stdout",
     "output_type": "stream",
     "text": [
      "Real classe        Iris-setosa  Iris-versicolor  Iris-virginica\n",
      "Clustering classe                                              \n",
      "0                            0               46              50\n",
      "1                           18                4               0\n",
      "2                           32                0               0\n"
     ]
    }
   ],
   "source": [
    "df_classes = pd.DataFrame({'Clustering classe':labels2,\"Real classe\":target})\n",
    "\n",
    "ct = pd.crosstab(df_classes['Clustering classe'],df_classes['Real classe'])\n",
    "print(ct) \n"
   ]
  },
  {
   "cell_type": "code",
   "execution_count": 102,
   "metadata": {},
   "outputs": [],
   "source": [
    "iris[\"predit\"] = labels2"
   ]
  },
  {
   "cell_type": "code",
   "execution_count": null,
   "metadata": {},
   "outputs": [],
   "source": []
  }
 ],
 "metadata": {
  "kernelspec": {
   "display_name": "Python 3.7",
   "language": "python",
   "name": "python37"
  },
  "language_info": {
   "codemirror_mode": {
    "name": "ipython",
    "version": 3
   },
   "file_extension": ".py",
   "mimetype": "text/x-python",
   "name": "python",
   "nbconvert_exporter": "python",
   "pygments_lexer": "ipython3",
   "version": "3.7.9"
  }
 },
 "nbformat": 4,
 "nbformat_minor": 4
}
